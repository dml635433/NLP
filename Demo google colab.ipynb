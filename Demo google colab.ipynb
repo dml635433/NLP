{
 "cells": [
  {
   "cell_type": "code",
   "execution_count": 1,
   "metadata": {
    "colab": {
     "base_uri": "https://localhost:8080/"
    },
    "executionInfo": {
     "elapsed": 19,
     "status": "ok",
     "timestamp": 1627991712817,
     "user": {
      "displayName": "Laado Guru",
      "photoUrl": "https://lh3.googleusercontent.com/a-/AOh14Gh5LOHYoFsQZdBqgSv9mJ2r9cMi1gvGyMr4ewjz=s64",
      "userId": "05658676960754911559"
     },
     "user_tz": -330
    },
    "id": "wNzzlYR73MVa",
    "outputId": "72eb88a1-15e8-419c-e30a-312eb6c9557e"
   },
   "outputs": [
    {
     "name": "stdout",
     "output_type": "stream",
     "text": [
      "Hellow Google colabe\n"
     ]
    }
   ],
   "source": [
    "print(\"Hellow Google colabe\")"
   ]
  },
  {
   "cell_type": "code",
   "execution_count": 2,
   "metadata": {
    "colab": {
     "base_uri": "https://localhost:8080/"
    },
    "executionInfo": {
     "elapsed": 648,
     "status": "ok",
     "timestamp": 1627991747200,
     "user": {
      "displayName": "Laado Guru",
      "photoUrl": "https://lh3.googleusercontent.com/a-/AOh14Gh5LOHYoFsQZdBqgSv9mJ2r9cMi1gvGyMr4ewjz=s64",
      "userId": "05658676960754911559"
     },
     "user_tz": -330
    },
    "id": "YJxM0Nkn3ell",
    "outputId": "3ed48bd1-0c28-4643-eab9-2c6383ed8e78"
   },
   "outputs": [
    {
     "name": "stdout",
     "output_type": "stream",
     "text": [
      "my name is jitendra singh\n"
     ]
    }
   ],
   "source": [
    "print(\"my name is jitendra singh\")"
   ]
  },
  {
   "cell_type": "code",
   "execution_count": 3,
   "metadata": {
    "executionInfo": {
     "elapsed": 780,
     "status": "ok",
     "timestamp": 1627992466132,
     "user": {
      "displayName": "Laado Guru",
      "photoUrl": "https://lh3.googleusercontent.com/a-/AOh14Gh5LOHYoFsQZdBqgSv9mJ2r9cMi1gvGyMr4ewjz=s64",
      "userId": "05658676960754911559"
     },
     "user_tz": -330
    },
    "id": "tIXyYaEo3qRZ"
   },
   "outputs": [],
   "source": [
    "import cv2"
   ]
  },
  {
   "cell_type": "code",
   "execution_count": 8,
   "metadata": {
    "executionInfo": {
     "elapsed": 1825,
     "status": "ok",
     "timestamp": 1627996100867,
     "user": {
      "displayName": "Laado Guru",
      "photoUrl": "https://lh3.googleusercontent.com/a-/AOh14Gh5LOHYoFsQZdBqgSv9mJ2r9cMi1gvGyMr4ewjz=s64",
      "userId": "05658676960754911559"
     },
     "user_tz": -330
    },
    "id": "jbHzqyjm6Zsj"
   },
   "outputs": [],
   "source": [
    "import numpy as np\n",
    "import matplotlib.pyplot as plt\n",
    "import tensorflow as tf"
   ]
  },
  {
   "cell_type": "code",
   "execution_count": 9,
   "metadata": {
    "colab": {
     "base_uri": "https://localhost:8080/",
     "height": 35
    },
    "executionInfo": {
     "elapsed": 29,
     "status": "ok",
     "timestamp": 1627996102652,
     "user": {
      "displayName": "Laado Guru",
      "photoUrl": "https://lh3.googleusercontent.com/a-/AOh14Gh5LOHYoFsQZdBqgSv9mJ2r9cMi1gvGyMr4ewjz=s64",
      "userId": "05658676960754911559"
     },
     "user_tz": -330
    },
    "id": "MEYWjMUl6ceB",
    "outputId": "980a536c-3dd2-47c6-9de6-0fa5bbfcc022"
   },
   "outputs": [
    {
     "data": {
      "application/vnd.google.colaboratory.intrinsic+json": {
       "type": "string"
      },
      "text/plain": [
       "'1.19.5'"
      ]
     },
     "execution_count": 9,
     "metadata": {
      "tags": []
     },
     "output_type": "execute_result"
    }
   ],
   "source": [
    "np.__version__"
   ]
  },
  {
   "cell_type": "code",
   "execution_count": 12,
   "metadata": {
    "colab": {
     "base_uri": "https://localhost:8080/"
    },
    "executionInfo": {
     "elapsed": 496,
     "status": "ok",
     "timestamp": 1627996167130,
     "user": {
      "displayName": "Laado Guru",
      "photoUrl": "https://lh3.googleusercontent.com/a-/AOh14Gh5LOHYoFsQZdBqgSv9mJ2r9cMi1gvGyMr4ewjz=s64",
      "userId": "05658676960754911559"
     },
     "user_tz": -330
    },
    "id": "mMFhFRBK6wB4",
    "outputId": "e6dd9ba7-869e-4bd6-e7b4-5449c2bc071a"
   },
   "outputs": [
    {
     "data": {
      "text/plain": [
       "array(['1', 'moham', '4', '5', '6'], dtype='<U21')"
      ]
     },
     "execution_count": 12,
     "metadata": {
      "tags": []
     },
     "output_type": "execute_result"
    }
   ],
   "source": [
    "data = np.array([1,\"moham\",4,5,6])\n",
    "data"
   ]
  },
  {
   "cell_type": "code",
   "execution_count": 13,
   "metadata": {
    "colab": {
     "base_uri": "https://localhost:8080/"
    },
    "executionInfo": {
     "elapsed": 483,
     "status": "ok",
     "timestamp": 1627996181931,
     "user": {
      "displayName": "Laado Guru",
      "photoUrl": "https://lh3.googleusercontent.com/a-/AOh14Gh5LOHYoFsQZdBqgSv9mJ2r9cMi1gvGyMr4ewjz=s64",
      "userId": "05658676960754911559"
     },
     "user_tz": -330
    },
    "id": "C1-xTYAA6yBt",
    "outputId": "3792e4ab-cc9d-413b-83ad-b3dd031e4e67"
   },
   "outputs": [
    {
     "data": {
      "text/plain": [
       "(5,)"
      ]
     },
     "execution_count": 13,
     "metadata": {
      "tags": []
     },
     "output_type": "execute_result"
    }
   ],
   "source": [
    "data.shape"
   ]
  },
  {
   "cell_type": "code",
   "execution_count": 17,
   "metadata": {
    "colab": {
     "base_uri": "https://localhost:8080/"
    },
    "executionInfo": {
     "elapsed": 519,
     "status": "ok",
     "timestamp": 1627996329364,
     "user": {
      "displayName": "Laado Guru",
      "photoUrl": "https://lh3.googleusercontent.com/a-/AOh14Gh5LOHYoFsQZdBqgSv9mJ2r9cMi1gvGyMr4ewjz=s64",
      "userId": "05658676960754911559"
     },
     "user_tz": -330
    },
    "id": "d_3byOG7Ib34",
    "outputId": "fb5999a8-1a71-4c95-b5ff-8a9c8dc90c26"
   },
   "outputs": [
    {
     "name": "stdout",
     "output_type": "stream",
     "text": [
      "<class 'numpy.ndarray'>\n"
     ]
    }
   ],
   "source": [
    "print(type(data))"
   ]
  },
  {
   "cell_type": "code",
   "execution_count": 18,
   "metadata": {
    "colab": {
     "base_uri": "https://localhost:8080/"
    },
    "executionInfo": {
     "elapsed": 532,
     "status": "ok",
     "timestamp": 1627996341911,
     "user": {
      "displayName": "Laado Guru",
      "photoUrl": "https://lh3.googleusercontent.com/a-/AOh14Gh5LOHYoFsQZdBqgSv9mJ2r9cMi1gvGyMr4ewjz=s64",
      "userId": "05658676960754911559"
     },
     "user_tz": -330
    },
    "id": "NTEjaCnkIoCC",
    "outputId": "a04bcfd6-f267-44e4-f3b8-6a4a621b64d7"
   },
   "outputs": [
    {
     "data": {
      "text/plain": [
       "numpy.ndarray"
      ]
     },
     "execution_count": 18,
     "metadata": {
      "tags": []
     },
     "output_type": "execute_result"
    }
   ],
   "source": [
    "type(data)"
   ]
  },
  {
   "cell_type": "code",
   "execution_count": 19,
   "metadata": {
    "colab": {
     "base_uri": "https://localhost:8080/"
    },
    "executionInfo": {
     "elapsed": 521,
     "status": "ok",
     "timestamp": 1627996514557,
     "user": {
      "displayName": "Laado Guru",
      "photoUrl": "https://lh3.googleusercontent.com/a-/AOh14Gh5LOHYoFsQZdBqgSv9mJ2r9cMi1gvGyMr4ewjz=s64",
      "userId": "05658676960754911559"
     },
     "user_tz": -330
    },
    "id": "J5JOwwnuJMBr",
    "outputId": "c2210f89-8178-467d-ed21-8ec8a32ace80"
   },
   "outputs": [
    {
     "data": {
      "text/plain": [
       "dtype('<U21')"
      ]
     },
     "execution_count": 19,
     "metadata": {
      "tags": []
     },
     "output_type": "execute_result"
    }
   ],
   "source": [
    "data.dtype"
   ]
  },
  {
   "cell_type": "code",
   "execution_count": 20,
   "metadata": {
    "colab": {
     "base_uri": "https://localhost:8080/"
    },
    "executionInfo": {
     "elapsed": 496,
     "status": "ok",
     "timestamp": 1627996728288,
     "user": {
      "displayName": "Laado Guru",
      "photoUrl": "https://lh3.googleusercontent.com/a-/AOh14Gh5LOHYoFsQZdBqgSv9mJ2r9cMi1gvGyMr4ewjz=s64",
      "userId": "05658676960754911559"
     },
     "user_tz": -330
    },
    "id": "uA7WdzTjJ2Om",
    "outputId": "da4a3c6d-e3e6-4ca8-8782-ff204a49688b"
   },
   "outputs": [
    {
     "data": {
      "text/plain": [
       "range(0, 10)"
      ]
     },
     "execution_count": 20,
     "metadata": {
      "tags": []
     },
     "output_type": "execute_result"
    }
   ],
   "source": [
    "range(10)"
   ]
  },
  {
   "cell_type": "code",
   "execution_count": 22,
   "metadata": {
    "colab": {
     "base_uri": "https://localhost:8080/"
    },
    "executionInfo": {
     "elapsed": 632,
     "status": "ok",
     "timestamp": 1627996758148,
     "user": {
      "displayName": "Laado Guru",
      "photoUrl": "https://lh3.googleusercontent.com/a-/AOh14Gh5LOHYoFsQZdBqgSv9mJ2r9cMi1gvGyMr4ewjz=s64",
      "userId": "05658676960754911559"
     },
     "user_tz": -330
    },
    "id": "9T5UgnOXKqZR",
    "outputId": "2d0b9772-c713-419d-d4ba-4168de0e5a56"
   },
   "outputs": [
    {
     "data": {
      "text/plain": [
       "array([0, 1, 2, 3, 4, 5, 6, 7, 8, 9])"
      ]
     },
     "execution_count": 22,
     "metadata": {
      "tags": []
     },
     "output_type": "execute_result"
    }
   ],
   "source": [
    "np.arange(10)"
   ]
  },
  {
   "cell_type": "code",
   "execution_count": null,
   "metadata": {
    "id": "hmxmDCrzKusg"
   },
   "outputs": [],
   "source": []
  }
 ],
 "metadata": {
  "colab": {
   "authorship_tag": "ABX9TyPM2QSF/yAdefx4xAHG5MWr",
   "collapsed_sections": [],
   "name": "lecture2.ipynb",
   "provenance": []
  },
  "kernelspec": {
   "display_name": "Python 3 (ipykernel)",
   "language": "python",
   "name": "python3"
  },
  "language_info": {
   "codemirror_mode": {
    "name": "ipython",
    "version": 3
   },
   "file_extension": ".py",
   "mimetype": "text/x-python",
   "name": "python",
   "nbconvert_exporter": "python",
   "pygments_lexer": "ipython3",
   "version": "3.8.10"
  }
 },
 "nbformat": 4,
 "nbformat_minor": 1
}
